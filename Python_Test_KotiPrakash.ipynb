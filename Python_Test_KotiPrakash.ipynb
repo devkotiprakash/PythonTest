{
 "cells": [
  {
   "cell_type": "code",
   "execution_count": 33,
   "metadata": {},
   "outputs": [],
   "source": [
    "# Write python code to calculate health premium.Your code must include \"function\".\n",
    "\n",
    "\n",
    "\n",
    "def calc_premium_gender(gender,year,smoker):\n",
    "    \n",
    "    if gender == 'Male':\n",
    "        if year >= 1990 and year <= 2000:\n",
    "            premium = 3500\n",
    "            if smoker == True:\n",
    "                print('Your annual premium is ' + str(premium))\n",
    "            else: print('Your annual premium is '+ str(premium -(10/100)))\n",
    "        if year >= 1970 and year < 1990:\n",
    "            premium = 40000\n",
    "            if smoker == False:\n",
    "                print('Your annual premium is ', str(premium)) \n",
    "            else: print('Your annual premium is ', str(premium -(10/100)))\n",
    "    if gender == 'Female':\n",
    "        if year >= 1990 and year <= 2000:\n",
    "            premium = 30000\n",
    "            if smoker == True:\n",
    "                print('Your annual premium is ', str(premium))\n",
    "            else:\n",
    "                print('Your annual premium is ', str(premium -(10/100)))\n",
    "        if year >= 1970 and year < 1990:\n",
    "            premium = 35000\n",
    "            if smoker == False:\n",
    "                print('Your annual premium is ', str(premium)) \n",
    "            else: print('Your annual premium is ', str(premium -(10/100)))\n",
    "\n"
   ]
  },
  {
   "cell_type": "code",
   "execution_count": 34,
   "metadata": {},
   "outputs": [
    {
     "name": "stdout",
     "output_type": "stream",
     "text": [
      "Your annual premium is  29999.9\n"
     ]
    }
   ],
   "source": [
    "calc_premium_gender('Female',1990,False)"
   ]
  },
  {
   "cell_type": "code",
   "execution_count": null,
   "metadata": {},
   "outputs": [],
   "source": []
  }
 ],
 "metadata": {
  "kernelspec": {
   "display_name": "base",
   "language": "python",
   "name": "python3"
  },
  "language_info": {
   "codemirror_mode": {
    "name": "ipython",
    "version": 3
   },
   "file_extension": ".py",
   "mimetype": "text/x-python",
   "name": "python",
   "nbconvert_exporter": "python",
   "pygments_lexer": "ipython3",
   "version": "3.11.7"
  }
 },
 "nbformat": 4,
 "nbformat_minor": 2
}
